{
 "cells": [
  {
   "cell_type": "markdown",
   "id": "fb90a1f1",
   "metadata": {},
   "source": [
    "This notebook showcases diffrent types of schdeuling algorithms written in Python\n",
    "\n",
    "There are 5 total schdueling methods that any rudamentory CPUs use, these are:\n",
    "\n",
    "1.First Come First Serve (FCFS)\n",
    "2.Shortest Job First (SJF)\n",
    "3.Priority Scheduling\n",
    "4.Multilevel Queue Scheduling\n",
    "5.Round Robin (RR)\n",
    "\n",
    "Before going through the code, here are some quick notes about the defintions of keywords:\n",
    "\n",
    "Burst time - The amount of time a process needs to execute on the CPU\n",
    "\n",
    "Arrival time - The time at which a process enters the ready queue (becomes ready to be scheduled on the CPU).\n",
    "\n",
    "Waiting time - The total time a process spends waiting in the ready queue before it gets CPU time.\n",
    "\n",
    "Turnaround time - The total time from the moment a process arrives in the system to the moment it completes\n",
    "\n",
    "Process - The program in execution.\n",
    "\n"
   ]
  },
  {
   "cell_type": "code",
   "execution_count": 2,
   "id": "3f8aac25",
   "metadata": {},
   "outputs": [
    {
     "name": "stdout",
     "output_type": "stream",
     "text": [
      "P1: Waiting = 0, Turnaround = 5\n",
      "P2: Waiting = 5, Turnaround = 8\n",
      "P3: Waiting = 8, Turnaround = 16\n"
     ]
    }
   ],
   "source": [
    "#1.First Come First Serve (FCFS)\n",
    "\n",
    "processes = ['P1', 'P2', 'P3']\n",
    "arrival_time = [0, 1, 2]\n",
    "burst_time = [5, 3, 8]\n",
    "\n",
    "n = len(processes)\n",
    "waiting_time = [0] * n\n",
    "turnaround_time = [0] * n\n",
    "\n",
    "# Calculate waiting time\n",
    "for i in range(1, n):\n",
    "    waiting_time[i] = waiting_time[i-1] + burst_time[i-1]\n",
    "\n",
    "# Calculate turnaround time\n",
    "for i in range(n):\n",
    "    turnaround_time[i] = burst_time[i] + waiting_time[i]\n",
    "\n",
    "# Print results\n",
    "for i in range(n):\n",
    "    print(f\"{processes[i]}: Waiting = {waiting_time[i]}, Turnaround = {turnaround_time[i]}\")\n"
   ]
  },
  {
   "cell_type": "code",
   "execution_count": null,
   "id": "cb943d7f",
   "metadata": {},
   "outputs": [],
   "source": [
    "#2.Shortest Job First (SJF)\n",
    "\n",
    "processes = [{'id': 'P1', 'arrival': 0, 'burst': 6},\n",
    "             {'id': 'P2', 'arrival': 1, 'burst': 8},\n",
    "             {'id': 'P3', 'arrival': 2, 'burst': 7},\n",
    "             {'id': 'P4', 'arrival': 3, 'burst': 3}]\n",
    "\n",
    "# Sort by arrival then burst time\n",
    "processes.sort(key=lambda x: (x['arrival'], x['burst']))\n",
    "\n",
    "time = 0\n",
    "for p in processes:\n",
    "    if time < p['arrival']:\n",
    "        time = p['arrival']\n",
    "    p['start'] = time\n",
    "    p['finish'] = time + p['burst']\n",
    "    time += p['burst']\n",
    "    p['waiting'] = p['start'] - p['arrival']\n",
    "    p['turnaround'] = p['finish'] - p['arrival']\n",
    "\n",
    "for p in processes:\n",
    "    print(f\"{p['id']}: Waiting = {p['waiting']}, Turnaround = {p['turnaround']}\")\n"
   ]
  }
 ],
 "metadata": {
  "kernelspec": {
   "display_name": "Python 3",
   "language": "python",
   "name": "python3"
  },
  "language_info": {
   "codemirror_mode": {
    "name": "ipython",
    "version": 3
   },
   "file_extension": ".py",
   "mimetype": "text/x-python",
   "name": "python",
   "nbconvert_exporter": "python",
   "pygments_lexer": "ipython3",
   "version": "3.13.5"
  }
 },
 "nbformat": 4,
 "nbformat_minor": 5
}
