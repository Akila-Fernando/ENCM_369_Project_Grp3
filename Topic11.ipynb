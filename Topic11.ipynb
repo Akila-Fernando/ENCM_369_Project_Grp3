{
 "cells": [
  {
   "cell_type": "markdown",
   "id": "fb90a1f1",
   "metadata": {},
   "source": [
    "This notebook showcases diffrents type of schdeuling algorithms written in Python\n",
    "\n",
    "There are 5 total schdueling methods that any rudamentory CPUs use, these are:\n",
    "\n",
    "1.First Come First Serve (FCFS)\n",
    "2.Shortest Job First (SJF)\n",
    "3.Priority Scheduling\n",
    "4.Multilevel Queue Scheduling\n",
    "5.Round Robin (RR)\n"
   ]
  }
 ],
 "metadata": {
  "language_info": {
   "name": "python"
  }
 },
 "nbformat": 4,
 "nbformat_minor": 5
}
