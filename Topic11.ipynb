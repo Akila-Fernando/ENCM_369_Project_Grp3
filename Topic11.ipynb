{
 "cells": [
  {
   "cell_type": "markdown",
   "id": "fb90a1f1",
   "metadata": {},
   "source": [
    "This notebook showcases diffrent types of schdeuling algorithms written in Python\n",
    "\n",
    "There are 5 total schdueling methods that any rudamentory CPUs use, these are:\n",
    "\n",
    " 1. First Come First Serve (FCFS)\n",
    " 2. Shortest Job First (SJF)\n",
    " 3. Priority Scheduling\n",
    " 4. Round Robin (RR)\n",
    " 5. Multilevel Queue Scheduling\n",
    "\n",
    "Before going through the code, here are some quick notes about the defintions of keywords:\n",
    "\n",
    " - Burst time - The amount of time a process needs to execute on the CPU\n",
    "\n",
    " - Arrival time - The time at which a process enters the ready queue (becomes ready to be scheduled on the CPU).\n",
    "\n",
    " - Waiting time - The total time a process spends waiting in the ready queue before it gets CPU time.\n",
    "\n",
    " - Turnaround time - The total time from the moment a process arrives in the system to the moment it completes\n",
    "\n",
    " - Process - The program in execution.\n",
    "\n"
   ]
  },
  {
   "cell_type": "code",
   "execution_count": 2,
   "id": "3f8aac25",
   "metadata": {},
   "outputs": [
    {
     "name": "stdout",
     "output_type": "stream",
     "text": [
      "P1: Waiting = 0, Turnaround = 5\n",
      "P2: Waiting = 5, Turnaround = 8\n",
      "P3: Waiting = 8, Turnaround = 16\n"
     ]
    }
   ],
   "source": [
    "#1.First Come First Serve (FCFS)\n",
    "\n",
    "processes = ['P1', 'P2', 'P3']\n",
    "arrival_time = [0, 1, 2]\n",
    "burst_time = [5, 3, 8]\n",
    "\n",
    "n = len(processes)\n",
    "waiting_time = [0] * n\n",
    "turnaround_time = [0] * n\n",
    "\n",
    "# Calculate waiting time\n",
    "for i in range(1, n):\n",
    "    waiting_time[i] = waiting_time[i-1] + burst_time[i-1]\n",
    "\n",
    "# Calculate turnaround time\n",
    "for i in range(n):\n",
    "    turnaround_time[i] = burst_time[i] + waiting_time[i]\n",
    "\n",
    "# Print results\n",
    "for i in range(n):\n",
    "    print(f\"{processes[i]}: Waiting = {waiting_time[i]}, Turnaround = {turnaround_time[i]}\")\n"
   ]
  },
  {
   "cell_type": "code",
   "execution_count": null,
   "id": "cb943d7f",
   "metadata": {},
   "outputs": [
    {
     "name": "stdout",
     "output_type": "stream",
     "text": [
      "P1: Waiting = 0, Turnaround = 6\n",
      "P2: Waiting = 5, Turnaround = 13\n",
      "P3: Waiting = 12, Turnaround = 19\n",
      "P4: Waiting = 18, Turnaround = 21\n"
     ]
    }
   ],
   "source": [
    "#2.Shortest Job First (SJF)\n",
    "\n",
    "processes = [{'id': 'P1', 'arrival': 0, 'burst': 6},\n",
    "             {'id': 'P2', 'arrival': 1, 'burst': 8},\n",
    "             {'id': 'P3', 'arrival': 2, 'burst': 7},\n",
    "             {'id': 'P4', 'arrival': 3, 'burst': 3}]\n",
    "\n",
    "# Sort by arrival then burst time\n",
    "processes.sort(key=lambda x: (x['arrival'], x['burst']))\n",
    "\n",
    "time = 0\n",
    "for p in processes:\n",
    "    if time < p['arrival']:\n",
    "        time = p['arrival']\n",
    "    p['start'] = time\n",
    "    p['finish'] = time + p['burst']\n",
    "    time += p['burst']\n",
    "    p['waiting'] = p['start'] - p['arrival']\n",
    "    p['turnaround'] = p['finish'] - p['arrival']\n",
    "\n",
    "for p in processes: \n",
    "    print(f\"{p['id']}: Waiting = {p['waiting']}, Turnaround = {p['turnaround']}\")\n"
   ]
  },
  {
   "cell_type": "code",
   "execution_count": 2,
   "id": "f9785143",
   "metadata": {},
   "outputs": [
    {
     "name": "stdout",
     "output_type": "stream",
     "text": [
      "P2: Waiting = 0, Turnaround = 1\n",
      "P5: Waiting = 1, Turnaround = 6\n",
      "P1: Waiting = 6, Turnaround = 16\n",
      "P3: Waiting = 16, Turnaround = 18\n",
      "P4: Waiting = 18, Turnaround = 19\n"
     ]
    }
   ],
   "source": [
    "#3.Priority Scheduling\n",
    "\n",
    "processes = [{'id': 'P1', 'burst': 10, 'priority': 3},\n",
    "             {'id': 'P2', 'burst': 1, 'priority': 1},\n",
    "             {'id': 'P3', 'burst': 2, 'priority': 4},\n",
    "             {'id': 'P4', 'burst': 1, 'priority': 5},\n",
    "             {'id': 'P5', 'burst': 5, 'priority': 2}]\n",
    "\n",
    "# Sort by priority\n",
    "processes.sort(key=lambda x: x['priority'])\n",
    "\n",
    "waiting = 0\n",
    "for p in processes:\n",
    "    p['waiting'] = waiting\n",
    "    p['turnaround'] = p['waiting'] + p['burst']\n",
    "    waiting += p['burst']\n",
    "\n",
    "for p in processes:\n",
    "    print(f\"{p['id']}: Waiting = {p['waiting']}, Turnaround = {p['turnaround']}\")\n"
   ]
  },
  {
   "cell_type": "code",
   "execution_count": 3,
   "id": "945e600c",
   "metadata": {},
   "outputs": [
    {
     "name": "stdout",
     "output_type": "stream",
     "text": [
      "P1: Waiting = 7, Turnaround = 12\n",
      "P2: Waiting = 5, Turnaround = 8\n",
      "P3: Waiting = 6, Turnaround = 14\n"
     ]
    }
   ],
   "source": [
    "#4.Round Robin (RR)\n",
    "\n",
    "from collections import deque\n",
    "\n",
    "processes = [{'id': 'P1', 'arrival': 0, 'burst': 5},\n",
    "             {'id': 'P2', 'arrival': 1, 'burst': 3},\n",
    "             {'id': 'P3', 'arrival': 2, 'burst': 8}]\n",
    "quantum = 2\n",
    "\n",
    "queue = deque()\n",
    "time = 0\n",
    "remaining = {p['id']: p['burst'] for p in processes}\n",
    "arrival_map = {p['id']: p['arrival'] for p in processes}\n",
    "completed = {}\n",
    "queue.extend([p['id'] for p in processes if p['arrival'] <= time])\n",
    "\n",
    "while queue:\n",
    "    pid = queue.popleft()\n",
    "    start_time = time\n",
    "    run_time = min(quantum, remaining[pid])\n",
    "    time += run_time\n",
    "    remaining[pid] -= run_time\n",
    "    \n",
    "    # Enqueue any newly arrived processes\n",
    "    for p in processes:\n",
    "        if arrival_map[p['id']] > start_time and arrival_map[p['id']] <= time and p['id'] not in queue and remaining[p['id']] > 0:\n",
    "            queue.append(p['id'])\n",
    "\n",
    "    if remaining[pid] > 0:\n",
    "        queue.append(pid)\n",
    "    else:\n",
    "        completed[pid] = time\n",
    "\n",
    "# Calculate waiting and turnaround\n",
    "for p in processes:\n",
    "    turnaround = completed[p['id']] - p['arrival']\n",
    "    waiting = turnaround - p['burst']\n",
    "    print(f\"{p['id']}: Waiting = {waiting}, Turnaround = {turnaround}\")\n"
   ]
  },
  {
   "cell_type": "code",
   "execution_count": 2,
   "id": "eaffc16b",
   "metadata": {},
   "outputs": [
    {
     "name": "stdout",
     "output_type": "stream",
     "text": [
      "Foreground Queue (Round Robin):\n",
      "F1 runs from 0 to 2\n",
      "F1 runs from 2 to 4\n",
      "F2 runs from 4 to 6\n",
      "\n",
      "Background Queue (FCFS):\n",
      "B1 runs from 6 to 12\n",
      "B2 runs from 12 to 17\n"
     ]
    }
   ],
   "source": [
    "#5. Multilevel Queue Scheduling\n",
    "\n",
    "foreground = [{'id': 'F1', 'burst': 4}, {'id': 'F2', 'burst': 2}]\n",
    "background = [{'id': 'B1', 'burst': 6}, {'id': 'B2', 'burst': 5}]\n",
    "\n",
    "quantum = 2\n",
    "time = 0\n",
    "\n",
    "print(\"Foreground Queue (Round Robin):\")\n",
    "for p in foreground:\n",
    "    while p['burst'] > 0:\n",
    "        run = min(quantum, p['burst'])\n",
    "        print(f\"{p['id']} runs from {time} to {time+run}\")\n",
    "        time += run\n",
    "        p['burst'] -= run\n",
    "\n",
    "print(\"\\nBackground Queue (FCFS):\")\n",
    "for p in background:\n",
    "    print(f\"{p['id']} runs from {time} to {time + p['burst']}\")\n",
    "    time += p['burst']\n"
   ]
  }
 ],
 "metadata": {
  "kernelspec": {
   "display_name": "Python 3",
   "language": "python",
   "name": "python3"
  },
  "language_info": {
   "codemirror_mode": {
    "name": "ipython",
    "version": 3
   },
   "file_extension": ".py",
   "mimetype": "text/x-python",
   "name": "python",
   "nbconvert_exporter": "python",
   "pygments_lexer": "ipython3",
   "version": "3.13.5"
  }
 },
 "nbformat": 4,
 "nbformat_minor": 5
}
